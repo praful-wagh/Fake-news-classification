{
 "cells": [
  {
   "cell_type": "code",
   "execution_count": 1,
   "id": "081d3538",
   "metadata": {
    "execution": {
     "iopub.execute_input": "2023-04-30T11:55:42.840455Z",
     "iopub.status.busy": "2023-04-30T11:55:42.840014Z",
     "iopub.status.idle": "2023-04-30T11:55:44.565382Z",
     "shell.execute_reply": "2023-04-30T11:55:44.564082Z"
    },
    "papermill": {
     "duration": 1.737411,
     "end_time": "2023-04-30T11:55:44.568476",
     "exception": false,
     "start_time": "2023-04-30T11:55:42.831065",
     "status": "completed"
    },
    "tags": []
   },
   "outputs": [],
   "source": [
    "import pandas as pd\n",
    "import numpy as np\n",
    "import re\n",
    "from sklearn.feature_extraction.text import CountVectorizer, TfidfVectorizer, HashingVectorizer\n",
    "from nltk.corpus import stopwords\n",
    "from nltk.stem.porter import PorterStemmer\n",
    "import itertools\n",
    "from sklearn.naive_bayes import MultinomialNB\n",
    "from sklearn.model_selection import train_test_split as tts\n",
    "from sklearn.metrics import accuracy_score, confusion_matrix, classification_report"
   ]
  },
  {
   "cell_type": "code",
   "execution_count": 2,
   "id": "ca40c33f",
   "metadata": {
    "execution": {
     "iopub.execute_input": "2023-04-30T11:55:44.582603Z",
     "iopub.status.busy": "2023-04-30T11:55:44.582100Z",
     "iopub.status.idle": "2023-04-30T11:55:47.025691Z",
     "shell.execute_reply": "2023-04-30T11:55:47.024325Z"
    },
    "papermill": {
     "duration": 2.454329,
     "end_time": "2023-04-30T11:55:47.028970",
     "exception": false,
     "start_time": "2023-04-30T11:55:44.574641",
     "status": "completed"
    },
    "tags": []
   },
   "outputs": [
    {
     "data": {
      "text/html": [
       "<div>\n",
       "<style scoped>\n",
       "    .dataframe tbody tr th:only-of-type {\n",
       "        vertical-align: middle;\n",
       "    }\n",
       "\n",
       "    .dataframe tbody tr th {\n",
       "        vertical-align: top;\n",
       "    }\n",
       "\n",
       "    .dataframe thead th {\n",
       "        text-align: right;\n",
       "    }\n",
       "</style>\n",
       "<table border=\"1\" class=\"dataframe\">\n",
       "  <thead>\n",
       "    <tr style=\"text-align: right;\">\n",
       "      <th></th>\n",
       "      <th>id</th>\n",
       "      <th>title</th>\n",
       "      <th>author</th>\n",
       "      <th>text</th>\n",
       "      <th>label</th>\n",
       "    </tr>\n",
       "  </thead>\n",
       "  <tbody>\n",
       "    <tr>\n",
       "      <th>0</th>\n",
       "      <td>0</td>\n",
       "      <td>House Dem Aide: We Didn’t Even See Comey’s Let...</td>\n",
       "      <td>Darrell Lucus</td>\n",
       "      <td>House Dem Aide: We Didn’t Even See Comey’s Let...</td>\n",
       "      <td>1</td>\n",
       "    </tr>\n",
       "    <tr>\n",
       "      <th>1</th>\n",
       "      <td>1</td>\n",
       "      <td>FLYNN: Hillary Clinton, Big Woman on Campus - ...</td>\n",
       "      <td>Daniel J. Flynn</td>\n",
       "      <td>Ever get the feeling your life circles the rou...</td>\n",
       "      <td>0</td>\n",
       "    </tr>\n",
       "  </tbody>\n",
       "</table>\n",
       "</div>"
      ],
      "text/plain": [
       "   id                                              title           author  \\\n",
       "0   0  House Dem Aide: We Didn’t Even See Comey’s Let...    Darrell Lucus   \n",
       "1   1  FLYNN: Hillary Clinton, Big Woman on Campus - ...  Daniel J. Flynn   \n",
       "\n",
       "                                                text  label  \n",
       "0  House Dem Aide: We Didn’t Even See Comey’s Let...      1  \n",
       "1  Ever get the feeling your life circles the rou...      0  "
      ]
     },
     "execution_count": 2,
     "metadata": {},
     "output_type": "execute_result"
    }
   ],
   "source": [
    "df = pd.read_csv('/kaggle/input/fake-news/train.csv')\n",
    "df[:2]"
   ]
  },
  {
   "cell_type": "code",
   "execution_count": 3,
   "id": "608bc534",
   "metadata": {
    "execution": {
     "iopub.execute_input": "2023-04-30T11:55:47.043418Z",
     "iopub.status.busy": "2023-04-30T11:55:47.043000Z",
     "iopub.status.idle": "2023-04-30T11:55:47.059560Z",
     "shell.execute_reply": "2023-04-30T11:55:47.058311Z"
    },
    "papermill": {
     "duration": 0.026999,
     "end_time": "2023-04-30T11:55:47.062301",
     "exception": false,
     "start_time": "2023-04-30T11:55:47.035302",
     "status": "completed"
    },
    "tags": []
   },
   "outputs": [
    {
     "data": {
      "text/plain": [
       "id           0\n",
       "title      558\n",
       "author    1957\n",
       "text        39\n",
       "label        0\n",
       "dtype: int64"
      ]
     },
     "execution_count": 3,
     "metadata": {},
     "output_type": "execute_result"
    }
   ],
   "source": [
    "df.isnull().sum()"
   ]
  },
  {
   "cell_type": "code",
   "execution_count": 4,
   "id": "21394d87",
   "metadata": {
    "execution": {
     "iopub.execute_input": "2023-04-30T11:55:47.077315Z",
     "iopub.status.busy": "2023-04-30T11:55:47.076506Z",
     "iopub.status.idle": "2023-04-30T11:55:47.100768Z",
     "shell.execute_reply": "2023-04-30T11:55:47.099340Z"
    },
    "papermill": {
     "duration": 0.034873,
     "end_time": "2023-04-30T11:55:47.103842",
     "exception": false,
     "start_time": "2023-04-30T11:55:47.068969",
     "status": "completed"
    },
    "tags": []
   },
   "outputs": [],
   "source": [
    "df.dropna(axis=0, inplace=True)\n",
    "df.reset_index(inplace=True)"
   ]
  },
  {
   "cell_type": "code",
   "execution_count": 5,
   "id": "09334f86",
   "metadata": {
    "execution": {
     "iopub.execute_input": "2023-04-30T11:55:47.119045Z",
     "iopub.status.busy": "2023-04-30T11:55:47.117837Z",
     "iopub.status.idle": "2023-04-30T11:55:47.124822Z",
     "shell.execute_reply": "2023-04-30T11:55:47.123894Z"
    },
    "papermill": {
     "duration": 0.017023,
     "end_time": "2023-04-30T11:55:47.127148",
     "exception": false,
     "start_time": "2023-04-30T11:55:47.110125",
     "status": "completed"
    },
    "tags": []
   },
   "outputs": [
    {
     "data": {
      "text/plain": [
       "(18285, 6)"
      ]
     },
     "execution_count": 5,
     "metadata": {},
     "output_type": "execute_result"
    }
   ],
   "source": [
    "df.shape"
   ]
  },
  {
   "cell_type": "code",
   "execution_count": 6,
   "id": "9ef4bbb5",
   "metadata": {
    "execution": {
     "iopub.execute_input": "2023-04-30T11:55:47.142375Z",
     "iopub.status.busy": "2023-04-30T11:55:47.141194Z",
     "iopub.status.idle": "2023-04-30T11:55:47.157969Z",
     "shell.execute_reply": "2023-04-30T11:55:47.156555Z"
    },
    "papermill": {
     "duration": 0.027105,
     "end_time": "2023-04-30T11:55:47.160671",
     "exception": false,
     "start_time": "2023-04-30T11:55:47.133566",
     "status": "completed"
    },
    "tags": []
   },
   "outputs": [
    {
     "data": {
      "text/plain": [
       "index     0\n",
       "id        0\n",
       "title     0\n",
       "author    0\n",
       "text      0\n",
       "label     0\n",
       "dtype: int64"
      ]
     },
     "execution_count": 6,
     "metadata": {},
     "output_type": "execute_result"
    }
   ],
   "source": [
    "df.isnull().sum()"
   ]
  },
  {
   "cell_type": "code",
   "execution_count": 7,
   "id": "371442ee",
   "metadata": {
    "execution": {
     "iopub.execute_input": "2023-04-30T11:55:47.177485Z",
     "iopub.status.busy": "2023-04-30T11:55:47.175131Z",
     "iopub.status.idle": "2023-04-30T11:55:47.192600Z",
     "shell.execute_reply": "2023-04-30T11:55:47.191180Z"
    },
    "papermill": {
     "duration": 0.028028,
     "end_time": "2023-04-30T11:55:47.195275",
     "exception": false,
     "start_time": "2023-04-30T11:55:47.167247",
     "status": "completed"
    },
    "tags": []
   },
   "outputs": [
    {
     "data": {
      "text/html": [
       "<div>\n",
       "<style scoped>\n",
       "    .dataframe tbody tr th:only-of-type {\n",
       "        vertical-align: middle;\n",
       "    }\n",
       "\n",
       "    .dataframe tbody tr th {\n",
       "        vertical-align: top;\n",
       "    }\n",
       "\n",
       "    .dataframe thead th {\n",
       "        text-align: right;\n",
       "    }\n",
       "</style>\n",
       "<table border=\"1\" class=\"dataframe\">\n",
       "  <thead>\n",
       "    <tr style=\"text-align: right;\">\n",
       "      <th></th>\n",
       "      <th>index</th>\n",
       "      <th>title</th>\n",
       "      <th>author</th>\n",
       "      <th>text</th>\n",
       "    </tr>\n",
       "  </thead>\n",
       "  <tbody>\n",
       "    <tr>\n",
       "      <th>0</th>\n",
       "      <td>0</td>\n",
       "      <td>House Dem Aide: We Didn’t Even See Comey’s Let...</td>\n",
       "      <td>Darrell Lucus</td>\n",
       "      <td>House Dem Aide: We Didn’t Even See Comey’s Let...</td>\n",
       "    </tr>\n",
       "    <tr>\n",
       "      <th>1</th>\n",
       "      <td>1</td>\n",
       "      <td>FLYNN: Hillary Clinton, Big Woman on Campus - ...</td>\n",
       "      <td>Daniel J. Flynn</td>\n",
       "      <td>Ever get the feeling your life circles the rou...</td>\n",
       "    </tr>\n",
       "  </tbody>\n",
       "</table>\n",
       "</div>"
      ],
      "text/plain": [
       "   index                                              title           author  \\\n",
       "0      0  House Dem Aide: We Didn’t Even See Comey’s Let...    Darrell Lucus   \n",
       "1      1  FLYNN: Hillary Clinton, Big Woman on Campus - ...  Daniel J. Flynn   \n",
       "\n",
       "                                                text  \n",
       "0  House Dem Aide: We Didn’t Even See Comey’s Let...  \n",
       "1  Ever get the feeling your life circles the rou...  "
      ]
     },
     "execution_count": 7,
     "metadata": {},
     "output_type": "execute_result"
    }
   ],
   "source": [
    "# x = df.iloc[:,1:4]\n",
    "x = df.drop(['label','id'],axis=1)\n",
    "x[:2]"
   ]
  },
  {
   "cell_type": "code",
   "execution_count": 8,
   "id": "7a809504",
   "metadata": {
    "execution": {
     "iopub.execute_input": "2023-04-30T11:55:47.211223Z",
     "iopub.status.busy": "2023-04-30T11:55:47.210278Z",
     "iopub.status.idle": "2023-04-30T11:55:47.220899Z",
     "shell.execute_reply": "2023-04-30T11:55:47.219804Z"
    },
    "papermill": {
     "duration": 0.021483,
     "end_time": "2023-04-30T11:55:47.223385",
     "exception": false,
     "start_time": "2023-04-30T11:55:47.201902",
     "status": "completed"
    },
    "tags": []
   },
   "outputs": [
    {
     "data": {
      "text/plain": [
       "0    1\n",
       "1    0\n",
       "2    1\n",
       "3    1\n",
       "4    1\n",
       "Name: label, dtype: int64"
      ]
     },
     "execution_count": 8,
     "metadata": {},
     "output_type": "execute_result"
    }
   ],
   "source": [
    "y = df['label']\n",
    "y.head()"
   ]
  },
  {
   "cell_type": "code",
   "execution_count": 9,
   "id": "daf2b696",
   "metadata": {
    "execution": {
     "iopub.execute_input": "2023-04-30T11:55:47.238833Z",
     "iopub.status.busy": "2023-04-30T11:55:47.238305Z",
     "iopub.status.idle": "2023-04-30T11:55:47.246524Z",
     "shell.execute_reply": "2023-04-30T11:55:47.245297Z"
    },
    "papermill": {
     "duration": 0.018707,
     "end_time": "2023-04-30T11:55:47.248755",
     "exception": false,
     "start_time": "2023-04-30T11:55:47.230048",
     "status": "completed"
    },
    "tags": []
   },
   "outputs": [
    {
     "data": {
      "text/plain": [
       "((18285, 4), (18285,))"
      ]
     },
     "execution_count": 9,
     "metadata": {},
     "output_type": "execute_result"
    }
   ],
   "source": [
    "x.shape, y.shape"
   ]
  },
  {
   "cell_type": "code",
   "execution_count": 10,
   "id": "eccf6d2e",
   "metadata": {
    "execution": {
     "iopub.execute_input": "2023-04-30T11:55:47.264713Z",
     "iopub.status.busy": "2023-04-30T11:55:47.263877Z",
     "iopub.status.idle": "2023-04-30T11:55:47.272434Z",
     "shell.execute_reply": "2023-04-30T11:55:47.271100Z"
    },
    "papermill": {
     "duration": 0.019748,
     "end_time": "2023-04-30T11:55:47.275232",
     "exception": false,
     "start_time": "2023-04-30T11:55:47.255484",
     "status": "completed"
    },
    "tags": []
   },
   "outputs": [
    {
     "data": {
      "text/plain": [
       "(18285, 6)"
      ]
     },
     "execution_count": 10,
     "metadata": {},
     "output_type": "execute_result"
    }
   ],
   "source": [
    "msgs = df.copy()\n",
    "msgs.shape"
   ]
  },
  {
   "cell_type": "code",
   "execution_count": 11,
   "id": "c5c32552",
   "metadata": {
    "execution": {
     "iopub.execute_input": "2023-04-30T11:55:47.292307Z",
     "iopub.status.busy": "2023-04-30T11:55:47.291059Z",
     "iopub.status.idle": "2023-04-30T11:55:47.297332Z",
     "shell.execute_reply": "2023-04-30T11:55:47.295971Z"
    },
    "papermill": {
     "duration": 0.017501,
     "end_time": "2023-04-30T11:55:47.299924",
     "exception": false,
     "start_time": "2023-04-30T11:55:47.282423",
     "status": "completed"
    },
    "tags": []
   },
   "outputs": [],
   "source": [
    "ps = PorterStemmer()"
   ]
  },
  {
   "cell_type": "code",
   "execution_count": 12,
   "id": "f8ece1a7",
   "metadata": {
    "execution": {
     "iopub.execute_input": "2023-04-30T11:55:47.317584Z",
     "iopub.status.busy": "2023-04-30T11:55:47.316368Z",
     "iopub.status.idle": "2023-04-30T11:56:26.698690Z",
     "shell.execute_reply": "2023-04-30T11:56:26.697337Z"
    },
    "papermill": {
     "duration": 39.399677,
     "end_time": "2023-04-30T11:56:26.707723",
     "exception": false,
     "start_time": "2023-04-30T11:55:47.308046",
     "status": "completed"
    },
    "tags": []
   },
   "outputs": [
    {
     "data": {
      "text/plain": [
       "['hous dem aid even see comey letter jason chaffetz tweet',\n",
       " 'flynn hillari clinton big woman campu breitbart',\n",
       " 'truth might get fire',\n",
       " 'civilian kill singl us airstrik identifi',\n",
       " 'iranian woman jail fiction unpublish stori woman stone death adulteri']"
      ]
     },
     "execution_count": 12,
     "metadata": {},
     "output_type": "execute_result"
    }
   ],
   "source": [
    "corpus=[]\n",
    "for i in range(len(msgs)):\n",
    "    r = msgs['title'][i]\n",
    "    r = re.sub('[^a-zA-Z]',' ',r)\n",
    "    r = r.lower()\n",
    "    r = r.split()\n",
    "    r = [ps.stem(w) for w in r if not w in stopwords.words('english')]\n",
    "    r = ' '.join(r)\n",
    "    corpus.append(r)\n",
    "corpus[:5]"
   ]
  },
  {
   "cell_type": "code",
   "execution_count": 13,
   "id": "10968bf4",
   "metadata": {
    "execution": {
     "iopub.execute_input": "2023-04-30T11:56:26.723562Z",
     "iopub.status.busy": "2023-04-30T11:56:26.723093Z",
     "iopub.status.idle": "2023-04-30T11:56:28.854051Z",
     "shell.execute_reply": "2023-04-30T11:56:28.852900Z"
    },
    "papermill": {
     "duration": 2.14227,
     "end_time": "2023-04-30T11:56:28.856946",
     "exception": false,
     "start_time": "2023-04-30T11:56:26.714676",
     "status": "completed"
    },
    "tags": []
   },
   "outputs": [],
   "source": [
    "cv = CountVectorizer(max_features=5000, ngram_range=(1,4))\n",
    "x = cv.fit_transform(corpus).toarray()"
   ]
  },
  {
   "cell_type": "code",
   "execution_count": 14,
   "id": "29b58348",
   "metadata": {
    "execution": {
     "iopub.execute_input": "2023-04-30T11:56:28.872839Z",
     "iopub.status.busy": "2023-04-30T11:56:28.872372Z",
     "iopub.status.idle": "2023-04-30T11:56:28.880455Z",
     "shell.execute_reply": "2023-04-30T11:56:28.878878Z"
    },
    "papermill": {
     "duration": 0.018951,
     "end_time": "2023-04-30T11:56:28.882987",
     "exception": false,
     "start_time": "2023-04-30T11:56:28.864036",
     "status": "completed"
    },
    "tags": []
   },
   "outputs": [
    {
     "data": {
      "text/plain": [
       "((18285, 5000), (18285,))"
      ]
     },
     "execution_count": 14,
     "metadata": {},
     "output_type": "execute_result"
    }
   ],
   "source": [
    "x.shape, y.shape"
   ]
  },
  {
   "cell_type": "code",
   "execution_count": 15,
   "id": "ccfee4cb",
   "metadata": {
    "execution": {
     "iopub.execute_input": "2023-04-30T11:56:28.899929Z",
     "iopub.status.busy": "2023-04-30T11:56:28.898596Z",
     "iopub.status.idle": "2023-04-30T11:56:29.330132Z",
     "shell.execute_reply": "2023-04-30T11:56:29.328584Z"
    },
    "papermill": {
     "duration": 0.442786,
     "end_time": "2023-04-30T11:56:29.333000",
     "exception": false,
     "start_time": "2023-04-30T11:56:28.890214",
     "status": "completed"
    },
    "tags": []
   },
   "outputs": [],
   "source": [
    "xtr, xte, ytr, yte = tts(x, y, test_size=.2, random_state=0)"
   ]
  },
  {
   "cell_type": "code",
   "execution_count": 16,
   "id": "cb7bd60e",
   "metadata": {
    "execution": {
     "iopub.execute_input": "2023-04-30T11:56:29.349387Z",
     "iopub.status.busy": "2023-04-30T11:56:29.348942Z",
     "iopub.status.idle": "2023-04-30T11:56:29.362452Z",
     "shell.execute_reply": "2023-04-30T11:56:29.361520Z"
    },
    "papermill": {
     "duration": 0.024935,
     "end_time": "2023-04-30T11:56:29.365308",
     "exception": false,
     "start_time": "2023-04-30T11:56:29.340373",
     "status": "completed"
    },
    "tags": []
   },
   "outputs": [
    {
     "name": "stderr",
     "output_type": "stream",
     "text": [
      "/opt/conda/lib/python3.7/site-packages/sklearn/utils/deprecation.py:87: FutureWarning: Function get_feature_names is deprecated; get_feature_names is deprecated in 1.0 and will be removed in 1.2. Please use get_feature_names_out instead.\n",
      "  warnings.warn(msg, category=FutureWarning)\n"
     ]
    },
    {
     "data": {
      "text/plain": [
       "['abandon', 'abc', 'abc news', 'abduct', 'abe']"
      ]
     },
     "execution_count": 16,
     "metadata": {},
     "output_type": "execute_result"
    }
   ],
   "source": [
    "cv.get_feature_names()[:5]"
   ]
  },
  {
   "cell_type": "code",
   "execution_count": 17,
   "id": "22efd195",
   "metadata": {
    "execution": {
     "iopub.execute_input": "2023-04-30T11:56:29.382633Z",
     "iopub.status.busy": "2023-04-30T11:56:29.381448Z",
     "iopub.status.idle": "2023-04-30T11:56:29.395699Z",
     "shell.execute_reply": "2023-04-30T11:56:29.394480Z"
    },
    "papermill": {
     "duration": 0.025128,
     "end_time": "2023-04-30T11:56:29.398046",
     "exception": false,
     "start_time": "2023-04-30T11:56:29.372918",
     "status": "completed"
    },
    "tags": []
   },
   "outputs": [
    {
     "data": {
      "text/plain": [
       "(18285, 5000)"
      ]
     },
     "execution_count": 17,
     "metadata": {},
     "output_type": "execute_result"
    }
   ],
   "source": [
    "count_df = pd.DataFrame(x, columns = cv.get_feature_names())\n",
    "count_df.shape"
   ]
  },
  {
   "cell_type": "code",
   "execution_count": 18,
   "id": "56821c71",
   "metadata": {
    "execution": {
     "iopub.execute_input": "2023-04-30T11:56:29.415172Z",
     "iopub.status.busy": "2023-04-30T11:56:29.414035Z",
     "iopub.status.idle": "2023-04-30T11:56:30.102657Z",
     "shell.execute_reply": "2023-04-30T11:56:30.100822Z"
    },
    "papermill": {
     "duration": 0.702679,
     "end_time": "2023-04-30T11:56:30.108004",
     "exception": false,
     "start_time": "2023-04-30T11:56:29.405325",
     "status": "completed"
    },
    "tags": []
   },
   "outputs": [
    {
     "name": "stdout",
     "output_type": "stream",
     "text": [
      "0.9004648619086683\n"
     ]
    }
   ],
   "source": [
    "cls = MultinomialNB()\n",
    "cls.fit(xtr, ytr)\n",
    "yp = cls.predict(xte)\n",
    "print(accuracy_score(yte, yp))"
   ]
  },
  {
   "cell_type": "code",
   "execution_count": 19,
   "id": "e07cf200",
   "metadata": {
    "execution": {
     "iopub.execute_input": "2023-04-30T11:56:30.151007Z",
     "iopub.status.busy": "2023-04-30T11:56:30.150003Z",
     "iopub.status.idle": "2023-04-30T11:56:30.158479Z",
     "shell.execute_reply": "2023-04-30T11:56:30.156628Z"
    },
    "papermill": {
     "duration": 0.038491,
     "end_time": "2023-04-30T11:56:30.167223",
     "exception": false,
     "start_time": "2023-04-30T11:56:30.128732",
     "status": "completed"
    },
    "tags": []
   },
   "outputs": [],
   "source": [
    "# from sklearn.linear_model import LogisticRegression\n",
    "# lr = LogisticRegression()\n",
    "# lr.fit(xtr, ytr)\n",
    "# y_lr = lr.predict(xte)\n",
    "# print(accuracy_score(yte, y_lr))"
   ]
  },
  {
   "cell_type": "code",
   "execution_count": 20,
   "id": "88a66513",
   "metadata": {
    "execution": {
     "iopub.execute_input": "2023-04-30T11:56:30.208060Z",
     "iopub.status.busy": "2023-04-30T11:56:30.207108Z",
     "iopub.status.idle": "2023-04-30T11:56:30.213707Z",
     "shell.execute_reply": "2023-04-30T11:56:30.212308Z"
    },
    "papermill": {
     "duration": 0.030298,
     "end_time": "2023-04-30T11:56:30.216293",
     "exception": false,
     "start_time": "2023-04-30T11:56:30.185995",
     "status": "completed"
    },
    "tags": []
   },
   "outputs": [],
   "source": [
    "# from sklearn.ensemble import RandomForestClassifier\n",
    "# rfc = RandomForestClassifier()\n",
    "# rfc.fit(xtr, ytr)\n",
    "# y_rfc = rfc.predict(xte)\n",
    "# print(accuracy_score(yte, y_rfc))"
   ]
  },
  {
   "cell_type": "code",
   "execution_count": 21,
   "id": "6a51b242",
   "metadata": {
    "execution": {
     "iopub.execute_input": "2023-04-30T11:56:30.232692Z",
     "iopub.status.busy": "2023-04-30T11:56:30.232292Z",
     "iopub.status.idle": "2023-04-30T11:56:30.914653Z",
     "shell.execute_reply": "2023-04-30T11:56:30.912784Z"
    },
    "papermill": {
     "duration": 0.696374,
     "end_time": "2023-04-30T11:56:30.920128",
     "exception": false,
     "start_time": "2023-04-30T11:56:30.223754",
     "status": "completed"
    },
    "tags": []
   },
   "outputs": [
    {
     "name": "stdout",
     "output_type": "stream",
     "text": [
      "0.9010117582718075\n"
     ]
    }
   ],
   "source": [
    "cls = MultinomialNB(alpha=.9)\n",
    "cls.fit(xtr, ytr)\n",
    "yp = cls.predict(xte)\n",
    "print(accuracy_score(yte, yp))"
   ]
  },
  {
   "cell_type": "code",
   "execution_count": 22,
   "id": "a30ae91c",
   "metadata": {
    "execution": {
     "iopub.execute_input": "2023-04-30T11:56:30.962602Z",
     "iopub.status.busy": "2023-04-30T11:56:30.961837Z",
     "iopub.status.idle": "2023-04-30T11:56:31.017248Z",
     "shell.execute_reply": "2023-04-30T11:56:31.015400Z"
    },
    "papermill": {
     "duration": 0.082763,
     "end_time": "2023-04-30T11:56:31.022915",
     "exception": false,
     "start_time": "2023-04-30T11:56:30.940152",
     "status": "completed"
    },
    "tags": []
   },
   "outputs": [
    {
     "name": "stderr",
     "output_type": "stream",
     "text": [
      "/opt/conda/lib/python3.7/site-packages/sklearn/utils/deprecation.py:87: FutureWarning: Function get_feature_names is deprecated; get_feature_names is deprecated in 1.0 and will be removed in 1.2. Please use get_feature_names_out instead.\n",
      "  warnings.warn(msg, category=FutureWarning)\n"
     ]
    },
    {
     "data": {
      "text/plain": [
       "[(-11.641260044187877, 'access pipelin protest'),\n",
       " (-11.641260044187877, 'acknowledg emf'),\n",
       " (-11.641260044187877, 'acknowledg emf damag'),\n",
       " (-11.641260044187877, 'acquit'),\n",
       " (-11.641260044187877, 'adhd'),\n",
       " (-11.641260044187877, 'airstrik kill'),\n",
       " (-11.641260044187877, 'al nusra'),\n",
       " (-11.641260044187877, 'alien muslim'),\n",
       " (-11.641260044187877, 'american concern'),\n",
       " (-11.641260044187877, 'american concern elect'),\n",
       " (-11.641260044187877, 'american concern elect violenc'),\n",
       " (-11.641260044187877, 'american peopl defeat'),\n",
       " (-11.641260044187877, 'american peopl defeat oligarchi'),\n",
       " (-11.641260044187877, 'ariel noyola'),\n",
       " (-11.641260044187877, 'ariel noyola rodr'),\n",
       " (-11.641260044187877, 'ariel noyola rodr guez'),\n",
       " (-11.641260044187877, 'ask question'),\n",
       " (-11.641260044187877, 'auf'),\n",
       " (-11.641260044187877, 'avail'),\n",
       " (-11.641260044187877, 'babi powder')]"
      ]
     },
     "execution_count": 22,
     "metadata": {},
     "output_type": "execute_result"
    }
   ],
   "source": [
    "## Most real /// The more negative the value the more chances of it being fake\n",
    "sorted(zip(cls.feature_log_prob_[0],cv.get_feature_names()))[:20]"
   ]
  }
 ],
 "metadata": {
  "kernelspec": {
   "display_name": "Python 3",
   "language": "python",
   "name": "python3"
  },
  "language_info": {
   "codemirror_mode": {
    "name": "ipython",
    "version": 3
   },
   "file_extension": ".py",
   "mimetype": "text/x-python",
   "name": "python",
   "nbconvert_exporter": "python",
   "pygments_lexer": "ipython3",
   "version": "3.7.12"
  },
  "papermill": {
   "default_parameters": {},
   "duration": 59.6182,
   "end_time": "2023-04-30T11:56:31.954391",
   "environment_variables": {},
   "exception": null,
   "input_path": "__notebook__.ipynb",
   "output_path": "__notebook__.ipynb",
   "parameters": {},
   "start_time": "2023-04-30T11:55:32.336191",
   "version": "2.4.0"
  }
 },
 "nbformat": 4,
 "nbformat_minor": 5
}
